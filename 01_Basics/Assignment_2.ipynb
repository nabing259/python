{
 "cells": [
  {
   "cell_type": "markdown",
   "id": "2857932c-1318-4baf-adea-50e5a3253331",
   "metadata": {},
   "source": [
    "1. Ramesh’s basic salary is input through the keyboard. His dearness allowance is 40% of  basic salary, and house rent allowance is 20% of basic salary. Write a program to  calculate his gross salary. "
   ]
  },
  {
   "cell_type": "code",
   "execution_count": 5,
   "id": "612ee3fc-bee5-4735-acf3-0278500a7ae1",
   "metadata": {},
   "outputs": [
    {
     "name": "stdout",
     "output_type": "stream",
     "text": [
      "Enter basic Salary:  20000\n"
     ]
    },
    {
     "name": "stdout",
     "output_type": "stream",
     "text": [
      "32000.0\n"
     ]
    }
   ],
   "source": [
    "basic_salary = eval(input(\"Enter basic Salary: \"))\n",
    "dearness_allowance = basic_salary*(40/100)\n",
    "rent_allowance = basic_salary*(20/100)\n",
    "\n",
    "try:\n",
    "    gross_salary = basic_salary + dearness_allowance + rent_allowance\n",
    "    print(gross_salary)\n",
    "\n",
    "except Exception as e:\n",
    "    print(e)"
   ]
  },
  {
   "cell_type": "markdown",
   "id": "59811cb9-f48a-4472-a888-d0d0347fde6b",
   "metadata": {},
   "source": [
    "2. The distance between two cities (in km.) is input through the keyboard. Write a program  to convert and print this distance in meters, feet, inches and centimeters. \n"
   ]
  },
  {
   "cell_type": "code",
   "execution_count": 8,
   "id": "d876bc2d-b35b-4c43-99ff-d31caa989e9c",
   "metadata": {},
   "outputs": [
    {
     "name": "stdout",
     "output_type": "stream",
     "text": [
      "Enter distance between two cities:  50\n"
     ]
    },
    {
     "name": "stdout",
     "output_type": "stream",
     "text": [
      "Meters: 50000, centimeter:5000000, inches:1968499.9999999998, feet:164041.66666666666\n"
     ]
    }
   ],
   "source": [
    "distance = eval(input(\"Enter distance between two cities: \"))\n",
    "meters = distance*1000\n",
    "centimeter = meters*100\n",
    "inches = 39.37*meters\n",
    "feet = inches/12\n",
    "try:\n",
    "    print(\"Meters: {}, centimeter:{}, inches:{}, feet:{}\".format(meters, centimeter, inches, feet))\n",
    "\n",
    "except:\n",
    "    print(\"Something is wrong\")"
   ]
  },
  {
   "cell_type": "markdown",
   "id": "ff779075-5b7c-4344-953e-64efd9f88c2f",
   "metadata": {},
   "source": [
    "3. If the marks obtained by a student in five different subjects are input through the\n",
    "keyboard, find out the aggregate marks and percentage marks obtained by the student.\n",
    "Assume that the maximum marks that can be obtained by a student in each subject is 100."
   ]
  },
  {
   "cell_type": "code",
   "execution_count": 1,
   "id": "fa4a28cd",
   "metadata": {},
   "outputs": [
    {
     "name": "stdout",
     "output_type": "stream",
     "text": [
      "360\n",
      "72.0\n"
     ]
    }
   ],
   "source": [
    "sub1 = eval(input(\"Enter Sub1: \"))\n",
    "sub2 = eval(input(\"Enter Sub2: \"))\n",
    "sub3 = eval(input(\"Enter Sub3: \"))\n",
    "sub4 = eval(input(\"Enter Sub4: \"))\n",
    "sub5 = eval(input(\"Enter Sub5: \"))\n",
    "\n",
    "total = sub1+sub2+sub3+sub4+sub5\n",
    "percentage = total/5\n",
    "\n",
    "print(total)\n",
    "print(percentage)"
   ]
  },
  {
   "cell_type": "markdown",
   "id": "c3e283b7",
   "metadata": {},
   "source": [
    "4. Temperature of a city in Fahrenheit degrees is input through the keyboard. Write a\n",
    "program to convert this temperature into Centigrade degrees. 0C= (0F-32)*(5/9)\n"
   ]
  },
  {
   "cell_type": "code",
   "execution_count": 2,
   "id": "059acdea",
   "metadata": {},
   "outputs": [
    {
     "name": "stdout",
     "output_type": "stream",
     "text": [
      "-1.1111111111111112\n"
     ]
    }
   ],
   "source": [
    "temperature = eval(input(\"Enter temperature in Fahrenheit: \"))\n",
    "\n",
    "centigrade = (temperature-32)*(5/9)\n",
    "\n",
    "print(centigrade)\n"
   ]
  },
  {
   "cell_type": "markdown",
   "id": "0f43ce09",
   "metadata": {},
   "source": [
    "5. The length & breadth of a rectangle and radius of a circle are input through the\n",
    "keyboard. Write a program to calculate the area & perimeter of the rectangle, and the area & circumference of the circle."
   ]
  },
  {
   "cell_type": "code",
   "execution_count": 3,
   "id": "c7441853",
   "metadata": {},
   "outputs": [
    {
     "name": "stdout",
     "output_type": "stream",
     "text": [
      "Area of Rectangle: 50\n",
      "Perimeter:  30\n",
      "Area of Circle:  1256.6370614359173\n",
      "Circumference 125.66370614359172\n"
     ]
    }
   ],
   "source": [
    "import math\n",
    "\n",
    "length = eval(input(\"Enter Length: \"))\n",
    "breadth = eval(input(\"Enter Breadth: \"))\n",
    "radius = eval(input(\"Enter Radius: \"))\n",
    "\n",
    "area_rectangle = length*breadth\n",
    "perimeter = 2*(length+breadth)\n",
    "print('Area of Rectangle:',area_rectangle)\n",
    "print('Perimeter: ',perimeter)\n",
    "\n",
    "pii = math.pi\n",
    "area_of_circle = pii*radius*radius\n",
    "circumference = 2*pii*radius\n",
    "print('Area of Circle: ',area_of_circle)\n",
    "print('Circumference',circumference)\n",
    "\n",
    "\n",
    "\n"
   ]
  },
  {
   "cell_type": "markdown",
   "id": "e5becf5d",
   "metadata": {},
   "source": [
    "6. Two numbers are input through the keyboard into two locations C and D. Write a program to interchange the contents of C and D."
   ]
  },
  {
   "cell_type": "code",
   "execution_count": 3,
   "id": "bcee3375",
   "metadata": {},
   "outputs": [
    {
     "name": "stdout",
     "output_type": "stream",
     "text": [
      "C1 =  5  D1 =  10\n",
      "C =  10  D =  5\n"
     ]
    }
   ],
   "source": [
    "c = 5\n",
    "d = 10\n",
    "print ('C1 = ', c, ' D1 = ', d)\n",
    "c,d = d,c\n",
    "print ('C = ', c, ' D = ', d)"
   ]
  },
  {
   "cell_type": "markdown",
   "id": "ec4110d1",
   "metadata": {},
   "source": [
    "7. If a five-digit number is input through the keyboard, write a program to reverse the number."
   ]
  },
  {
   "cell_type": "markdown",
   "id": "782d634f",
   "metadata": {},
   "source": [
    "9. In a town, the percentage of men is 52. The percentage of total literacy is 48. If total percentage of literate men is 35 of the total population, write a program to find the total\n",
    "number of illiterate men and women if the population of the town is 80,000."
   ]
  },
  {
   "cell_type": "code",
   "execution_count": 4,
   "id": "f55e4f49",
   "metadata": {},
   "outputs": [
    {
     "name": "stdout",
     "output_type": "stream",
     "text": [
      "Total Illiterate Men:  13600.0  Total Illiterate Women:  28000.0\n"
     ]
    }
   ],
   "source": [
    "total_men = 80000*(52/100)\n",
    "total_women= 80000-total_men\n",
    "total_literacy = 80000*(48/100)\n",
    "literate_men = 80000*(35/100)\n",
    "illiterate_men = total_men-literate_men\n",
    "illiterate_women = total_women - (total_literacy-literate_men)\n",
    "\n",
    "print('Total Illiterate Men: ', illiterate_men, ' Total Illiterate Women: ', illiterate_women)"
   ]
  },
  {
   "cell_type": "markdown",
   "id": "8412bb9f",
   "metadata": {},
   "source": [
    "10. A cashier has currency notes of denominations 10, 50 and 100. If the amount to be withdrawn is input through the keyboard in hundreds, find the total number of currency\n",
    "notes of each denomination the cashier will have to give to the withdrawer."
   ]
  },
  {
   "cell_type": "markdown",
   "id": "6f39384d",
   "metadata": {},
   "source": []
  }
 ],
 "metadata": {
  "kernelspec": {
   "display_name": "Python 3",
   "language": "python",
   "name": "python3"
  },
  "language_info": {
   "codemirror_mode": {
    "name": "ipython",
    "version": 3
   },
   "file_extension": ".py",
   "mimetype": "text/x-python",
   "name": "python",
   "nbconvert_exporter": "python",
   "pygments_lexer": "ipython3",
   "version": "3.13.0"
  }
 },
 "nbformat": 4,
 "nbformat_minor": 5
}
