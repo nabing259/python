{
 "cells": [
  {
   "cell_type": "markdown",
   "metadata": {},
   "source": [
    "#### Problem 1\n",
    "Suppose that a Firm pays its employee at the rate of $12 per hour. An employee has worked for 37\n",
    "hours. How much should the firm pay the employee? (Do normal way directly takes the input)"
   ]
  },
  {
   "cell_type": "code",
   "execution_count": 1,
   "metadata": {},
   "outputs": [
    {
     "name": "stdout",
     "output_type": "stream",
     "text": [
      "444 $\n"
     ]
    }
   ],
   "source": [
    "rate_perhour = 12\n",
    "working_hours = 37\n",
    "\n",
    "total_payment = rate_perhour*working_hours\n",
    "\n",
    "print(total_payment,'$')"
   ]
  },
  {
   "cell_type": "markdown",
   "metadata": {},
   "source": [
    "#### Problem 2\n",
    "How about prompting the user for the number of hours and using the input value to compute the\n",
    "total pay? (Above problem use eval concept and sep concept)"
   ]
  },
  {
   "cell_type": "code",
   "execution_count": 4,
   "metadata": {},
   "outputs": [
    {
     "name": "stdout",
     "output_type": "stream",
     "text": [
      "Total Working Hours: 50 | Pay per hour: ₹ 2 | Total Payment:  100\n"
     ]
    }
   ],
   "source": [
    "hours = eval(input(\"Enter the total working hours: \"))\n",
    "rate = eval(input(\"Enter the rate per hour:\"))\n",
    "\n",
    "total_payment = hours*rate\n",
    "\n",
    "print(\"Total Working Hours:\", hours,'|', \"Pay per hour: ₹\", rate,'|', \"Total Payment: ₹\", total_payment)"
   ]
  },
  {
   "cell_type": "markdown",
   "metadata": {},
   "source": [
    "#### Problem-3\n",
    "For a certain academic subject the students are evaluated based on five tests - * Quiz 1 (20 marks - 10% Weight), * Quiz 2 (20 marks - 10% Weight), * Class test (50 marks - 25% Weight), * Assignment (100 marks - 25% weight) and\n",
    "* Project (200 marks - 30% weight).\n",
    "\n",
    "Design a program that will prompt the user for marks for each of the tests and calculate the overall\n",
    "marks (out of 100)."
   ]
  },
  {
   "cell_type": "code",
   "execution_count": 6,
   "metadata": {},
   "outputs": [
    {
     "name": "stdout",
     "output_type": "stream",
     "text": [
      "Invalid input\n"
     ]
    }
   ],
   "source": [
    "try:\n",
    "    quiz1 = eval(input(\"Enter the marks of Quiz1 out of 20:\"))\n",
    "    quiz2 = eval(input(\"Enter the marks of Quiz2 out of 20:\"))\n",
    "    classTest = eval(input(\"Enter the marks of Class Test out of 50:\"))\n",
    "    assignment = eval(input(\"Enter the marks of Assignment out of 100:\"))\n",
    "    project = eval(input(\"Enter the marks of Project out of 200:\"))\n",
    "\n",
    "    if quiz1<=20 and quiz2 <= 20 and classTest <=50 and assignment <=100 and project <=200:\n",
    "        overAllMarks = ((quiz1*10)/100)+((quiz2*10)/100)+((classTest*25)/100)+((assignment*25)/100)+((project*30)/100)\n",
    "\n",
    "        print(overAllMarks)\n",
    "\n",
    "    else :\n",
    "        raise Exception(f\"Invalid input\")    \n",
    "\n",
    "except Exception as e:\n",
    "    print(e)"
   ]
  },
  {
   "cell_type": "markdown",
   "metadata": {},
   "source": [
    "#### Problem-4\n",
    "If a five-digit number is input through the keyboard, write a program to calculate the sum of its\n",
    "digits."
   ]
  },
  {
   "cell_type": "code",
   "execution_count": 1,
   "metadata": {},
   "outputs": [
    {
     "name": "stdout",
     "output_type": "stream",
     "text": [
      "10000\n"
     ]
    }
   ],
   "source": [
    "number = eval(input(\"Enter a five-digit number: \"))\n",
    "\n",
    "if number > 9999 and number <= 99999:\n",
    "    print(number)"
   ]
  },
  {
   "cell_type": "markdown",
   "metadata": {},
   "source": [
    "#### Problem-5\n",
    "If a five-digit number is input through the keyboard, write a program to print a new number by\n",
    "adding one to each of its digits. For example if the number that is input is 12371 then the output\n",
    "should be displayed as 23482."
   ]
  },
  {
   "cell_type": "code",
   "execution_count": 1,
   "metadata": {},
   "outputs": [
    {
     "name": "stdout",
     "output_type": "stream",
     "text": [
      "3\n"
     ]
    }
   ],
   "source": []
  },
  {
   "cell_type": "markdown",
   "metadata": {},
   "source": [
    "#### Problem-6: (Use conditional statements)\n",
    "\n",
    "**Recall the problem:**\n",
    "\n",
    "For a certain academic subject the students are evaluated based on five tests - * Quiz 1 (20 marks - 10% Weight), * Quiz 2 (20 marks - 10% Weight), * Class test (50 marks - 25% Weight), * Assignment (100 marks - 25% weight) and\n",
    "* Project (200 marks - 30% weight).\n",
    "\n",
    "Design a program that will prompt the user for marks for each of the tests and calculate the overall\n",
    "marks (out of 100).\n",
    "\n",
    "#### Add an extension to the problem to display grades:\n",
    "Display the grades of students using the following table:\n",
    "\n",
    "Score Grade\n",
    ">= 60 First Class\n",
    ">= 40 Second Class\n",
    "< 40 Fail"
   ]
  },
  {
   "cell_type": "code",
   "execution_count": null,
   "metadata": {},
   "outputs": [],
   "source": []
  },
  {
   "cell_type": "markdown",
   "metadata": {},
   "source": [
    "#### Problem-7: (Use conditional statements)\n",
    "\n",
    "** Recall the problem:**\n",
    "\n",
    "How about prompting the user for the number of hours and using the input value to compute the\n",
    "total pay?"
   ]
  },
  {
   "cell_type": "code",
   "execution_count": null,
   "metadata": {},
   "outputs": [],
   "source": []
  },
  {
   "cell_type": "markdown",
   "metadata": {},
   "source": [
    "#### Problem-8\n",
    "** try & except **\n",
    "\n",
    "Rewrite the pay program (refer problem 2) using try and expect so that the program handles non-\n",
    "numeric input gracefully by printing a message and exiting the program. The following shows two\n",
    "\n",
    "executions of the program:\n",
    "\n",
    "Enter hours: 20\n",
    "Enter rate: nine\n",
    "Error, please enter numeric input"
   ]
  },
  {
   "cell_type": "code",
   "execution_count": null,
   "metadata": {},
   "outputs": [],
   "source": []
  },
  {
   "cell_type": "markdown",
   "metadata": {},
   "source": [
    "#### Problem-9(Use conditional statements)\n",
    "\n",
    "Write a program that asks the user to enter a length in centimeters. If the user enters a negative\n",
    "length, the program should tell the user that the entry is invalid. Otherwise, the program should\n",
    "convert the length to inches and print out the result. There are 2.54 centimeters in an inch."
   ]
  },
  {
   "cell_type": "code",
   "execution_count": null,
   "metadata": {},
   "outputs": [],
   "source": []
  },
  {
   "cell_type": "markdown",
   "metadata": {},
   "source": [
    "#### Problem-10(Use conditional statements)\n",
    "Ask the user for a temperature. Then ask them what units, Celsius or Fahrenheit, the temperature is\n",
    "in. Your program should convert the temperature to the other unit. The conversions are F = 9 5 C +\n",
    "32 and C = 5 9 (F − 32)."
   ]
  },
  {
   "cell_type": "code",
   "execution_count": null,
   "metadata": {},
   "outputs": [],
   "source": []
  },
  {
   "cell_type": "markdown",
   "metadata": {},
   "source": [
    "#### Problem-11(Use conditional statements)\n",
    "Ask the user to enter a temperature in Celsius. The program should print a message based on the\n",
    "temperature: • If the temperature is less than -273.15, print that the temperature is invalid because it is\n",
    "below absolute zero. • If it is exactly -273.15, print that the temperature is absolute 0. • If the temperature is between -273.15 and 0, print that the temperature"
   ]
  },
  {
   "cell_type": "code",
   "execution_count": null,
   "metadata": {},
   "outputs": [],
   "source": []
  },
  {
   "cell_type": "markdown",
   "metadata": {},
   "source": [
    "#### Problem-12(Use conditional statements)\n",
    "Write a program that asks the user how many credits they have taken. If they have taken 23 or less,\n",
    "print that the student is a freshman. If they have taken between 24 and 53, print that they are a\n",
    "sophomore. The range for juniors is 54 to 83, and for seniors it is 84 and over."
   ]
  },
  {
   "cell_type": "code",
   "execution_count": null,
   "metadata": {},
   "outputs": [],
   "source": []
  },
  {
   "cell_type": "markdown",
   "metadata": {},
   "source": [
    "#### Problem-13(Use conditional statements)\n",
    "Generate a random number between 1 and 10. Ask the user to guess the number and print a\n",
    "message based on whether they get it right or not."
   ]
  },
  {
   "cell_type": "code",
   "execution_count": null,
   "metadata": {},
   "outputs": [],
   "source": []
  },
  {
   "cell_type": "markdown",
   "metadata": {},
   "source": [
    "#### Problem-14(Use conditional statements)\n",
    "A store charges $12 per item if you buy less than 10 items. If you buy between 10 and 99 items, the\n",
    "cost is $10 per item. If you buy 100 or more items, the cost is $7 per item. Write a program that asks\n",
    "the user how many items they are buying and prints the total cost."
   ]
  },
  {
   "cell_type": "code",
   "execution_count": null,
   "metadata": {},
   "outputs": [],
   "source": []
  },
  {
   "cell_type": "markdown",
   "metadata": {},
   "source": [
    "#### Problem-15(Use conditional statements)\n",
    "Write a program that asks the user for two numbers and prints Close if the numbers are within .001\n",
    "of each other and Not close otherwise."
   ]
  },
  {
   "cell_type": "code",
   "execution_count": null,
   "metadata": {},
   "outputs": [],
   "source": []
  },
  {
   "cell_type": "markdown",
   "metadata": {},
   "source": [
    "#### Problem-16(Use conditional statements)\n",
    "A year is a leap year if it is divisible by 4, except that years divisible by 100 are not leap years unless\n",
    "they are also divisible by 400. Write a program that asks the user for a year and prints out whether it\n",
    "is a leap year or not."
   ]
  },
  {
   "cell_type": "code",
   "execution_count": null,
   "metadata": {},
   "outputs": [],
   "source": []
  },
  {
   "cell_type": "markdown",
   "metadata": {},
   "source": [
    "#### Problem-17(Use conditional statements)\n",
    "Write a program that asks the user to enter a number and prints out all the divisors of that number.\n",
    "[Hint: the % operator is used to tell if a number is divisible by something."
   ]
  },
  {
   "cell_type": "code",
   "execution_count": null,
   "metadata": {},
   "outputs": [],
   "source": []
  },
  {
   "cell_type": "markdown",
   "metadata": {},
   "source": [
    "#### Problem-18(Use conditional statements)\n",
    "Write a program that asks the user for an hour between 1 and 12, asks them to enter am or pm, and\n",
    "asks them how many hours into the future they want to go.\n",
    "Print out what the hour will be that many hours into the future, printing am or pm as appropriate.\n",
    "An example is shown below.\n",
    "Enter hour: 8\n",
    "am (1) or pm (2)? 1\n",
    "How many hours ahead? 5\n",
    "New hour: 1 pm"
   ]
  },
  {
   "cell_type": "code",
   "execution_count": null,
   "metadata": {},
   "outputs": [],
   "source": []
  }
 ],
 "metadata": {
  "kernelspec": {
   "display_name": "Python 3",
   "language": "python",
   "name": "python3"
  },
  "language_info": {
   "codemirror_mode": {
    "name": "ipython",
    "version": 3
   },
   "file_extension": ".py",
   "mimetype": "text/x-python",
   "name": "python",
   "nbconvert_exporter": "python",
   "pygments_lexer": "ipython3",
   "version": "3.13.0"
  }
 },
 "nbformat": 4,
 "nbformat_minor": 2
}
