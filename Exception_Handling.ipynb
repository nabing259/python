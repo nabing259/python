{
 "cells": [
  {
   "cell_type": "markdown",
   "id": "fbd647ab-0a66-440a-9834-c1fa05014e39",
   "metadata": {},
   "source": [
    "### $try$-$except$\n",
    "- Code will be there in try block\n",
    "- error capture will happens in except block\n",
    "- indentation: space\n",
    "- red: indentation not mentioned properly"
   ]
  },
  {
   "cell_type": "code",
   "execution_count": 4,
   "id": "dad39cf1-5f3b-4c17-a96b-9bf5b65af0b1",
   "metadata": {},
   "outputs": [
    {
     "name": "stdout",
     "output_type": "stream",
     "text": [
      "30\n"
     ]
    }
   ],
   "source": [
    "try:\n",
    "    num = 10\n",
    "    num2 = 20\n",
    "    sum = num+num2\n",
    "    print(sum)\n",
    "\n",
    "except:\n",
    "    print(\"Error is there\")"
   ]
  },
  {
   "cell_type": "code",
   "execution_count": 6,
   "id": "dfc88da3-e36f-4c9f-8dd5-24968628dc90",
   "metadata": {},
   "outputs": [
    {
     "name": "stdin",
     "output_type": "stream",
     "text": [
      "Enter Number1:  10\n",
      "Enter Number2:  15\n",
      "Enter Number3:  25\n"
     ]
    },
    {
     "name": "stdout",
     "output_type": "stream",
     "text": [
      "The average of 10, 15 and 25 is 16.666666666666668\n"
     ]
    }
   ],
   "source": [
    "try:\n",
    "    num1 = eval(input(\"Enter Number1: \"))\n",
    "    num2 = eval(input(\"Enter Number2: \"))\n",
    "    num3 = eval(input(\"Enter Number3: \"))\n",
    "    average = (num+num2+num3)/3\n",
    "    print(\"The average of {}, {} and {} is {}\".format(num1, num2, num3, average))\n",
    "\n",
    "except:\n",
    "    print(\"Error is there\")"
   ]
  },
  {
   "cell_type": "code",
   "execution_count": 7,
   "id": "c49b6a8f-3e2e-492a-8879-7e8d9ccc470d",
   "metadata": {},
   "outputs": [
    {
     "name": "stdin",
     "output_type": "stream",
     "text": [
      "Enter Number1:  1\n",
      "Enter Number2:  2\n",
      "Enter Number3:  3\n"
     ]
    },
    {
     "name": "stdout",
     "output_type": "stream",
     "text": [
      "name 'num33' is not defined\n"
     ]
    }
   ],
   "source": [
    "try:\n",
    "    num1 = eval(input(\"Enter Number1: \"))\n",
    "    num2 = eval(input(\"Enter Number2: \"))\n",
    "    num3 = eval(input(\"Enter Number3: \"))\n",
    "    average = (num+num2+num33)/3\n",
    "    print(\"The average of {}, {} and {} is {}\".format(num1, num2, num3, average))\n",
    "\n",
    "except Exception as e:\n",
    "    print(e)"
   ]
  }
 ],
 "metadata": {
  "kernelspec": {
   "display_name": "Python 3 (ipykernel)",
   "language": "python",
   "name": "python3"
  },
  "language_info": {
   "codemirror_mode": {
    "name": "ipython",
    "version": 3
   },
   "file_extension": ".py",
   "mimetype": "text/x-python",
   "name": "python",
   "nbconvert_exporter": "python",
   "pygments_lexer": "ipython3",
   "version": "3.12.7"
  }
 },
 "nbformat": 4,
 "nbformat_minor": 5
}
