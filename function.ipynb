{
 "cells": [
  {
   "cell_type": "markdown",
   "metadata": {},
   "source": [
    "**Function**\n",
    "def <function_name>():\n",
    "    write code"
   ]
  },
  {
   "cell_type": "code",
   "execution_count": 5,
   "metadata": {},
   "outputs": [
    {
     "name": "stdout",
     "output_type": "stream",
     "text": [
      "30\n"
     ]
    }
   ],
   "source": [
    "def addition():\n",
    "    n1 = 10\n",
    "    n2 = 20\n",
    "    add = n1+n2\n",
    "    print(add)\n",
    "addition()"
   ]
  },
  {
   "cell_type": "code",
   "execution_count": 8,
   "metadata": {},
   "outputs": [
    {
     "name": "stdout",
     "output_type": "stream",
     "text": [
      "30\n"
     ]
    }
   ],
   "source": [
    "addition()"
   ]
  },
  {
   "cell_type": "code",
   "execution_count": 9,
   "metadata": {},
   "outputs": [
    {
     "name": "stdout",
     "output_type": "stream",
     "text": [
      "4.0\n"
     ]
    }
   ],
   "source": [
    "n1 = eval(input(\"Enter Number 1: \"))\n",
    "n2 = eval(input(\"Enter Number 2: \"))\n",
    "n3 = eval(input(\"Enter Number 3: \"))\n",
    "\n",
    "avg = (n1+n2+n3)/3\n",
    "print(avg)"
   ]
  },
  {
   "cell_type": "code",
   "execution_count": 12,
   "metadata": {},
   "outputs": [
    {
     "name": "stdout",
     "output_type": "stream",
     "text": [
      "9.666666666666666\n"
     ]
    }
   ],
   "source": [
    "def average(n1, n2, n3):\n",
    "    avg = (n1+n2+n3)/3\n",
    "    print(avg)\n",
    "\n",
    "n1 = eval(input(\"Enter Number 1: \"))\n",
    "n2 = eval(input(\"Enter Number 2: \"))\n",
    "n3 = eval(input(\"Enter Number 3: \"))\n",
    "average(n1,n2,n3)"
   ]
  },
  {
   "cell_type": "code",
   "execution_count": 15,
   "metadata": {},
   "outputs": [
    {
     "name": "stdout",
     "output_type": "stream",
     "text": [
      "name 'n33' is not defined\n"
     ]
    }
   ],
   "source": [
    "def avg():\n",
    "    try:\n",
    "        n1 = eval(input(\"Enter Number 1: \"))\n",
    "        n2 = eval(input(\"Enter Number 2: \"))\n",
    "        n3 = eval(input(\"Enter Number 3: \"))\n",
    "        avg = (n1+n2+n33)/3\n",
    "        print(avg)\n",
    "\n",
    "    except Exception as e:\n",
    "        print(e) \n",
    "\n",
    "\n",
    "avg()        "
   ]
  },
  {
   "cell_type": "code",
   "execution_count": 24,
   "metadata": {},
   "outputs": [
    {
     "name": "stdout",
     "output_type": "stream",
     "text": [
      "27 is an Odd Number\n"
     ]
    }
   ],
   "source": [
    "import random\n",
    "num = random.randint(1,100)\n",
    "if num%2 == 0:\n",
    "    print(\"{} is an Even Number\".format(num))\n",
    "else:\n",
    "    print(\"{} is an Odd Number\".format(num)) "
   ]
  },
  {
   "cell_type": "code",
   "execution_count": 26,
   "metadata": {},
   "outputs": [
    {
     "name": "stdout",
     "output_type": "stream",
     "text": [
      "addition:  40\n",
      "mul:  375\n",
      "sub:  10\n"
     ]
    }
   ],
   "source": [
    "def addition():\n",
    "    n1 = 25\n",
    "    n2 = 15\n",
    "    print(\"addition: \", n1 + n2)\n",
    "\n",
    "def mul():\n",
    "    n1 = 25\n",
    "    n2 = 15\n",
    "    print(\"mul: \", n1*n2)\n",
    "\n",
    "def sub():\n",
    "    n1 = 25\n",
    "    n2 = 15\n",
    "    print(\"sub: \", n1-n2)\n",
    "\n",
    "\n",
    "addition()\n",
    "mul()\n",
    "sub()"
   ]
  },
  {
   "cell_type": "code",
   "execution_count": 27,
   "metadata": {},
   "outputs": [
    {
     "name": "stdout",
     "output_type": "stream",
     "text": [
      "addition:  30\n"
     ]
    }
   ],
   "source": [
    "def addition(n1,n2):\n",
    "    add = n1+n2\n",
    "    print(\"addition: \", add)\n",
    "\n",
    "addition(10,20)\n"
   ]
  },
  {
   "cell_type": "code",
   "execution_count": 31,
   "metadata": {},
   "outputs": [
    {
     "name": "stdout",
     "output_type": "stream",
     "text": [
      "20.0\n"
     ]
    }
   ],
   "source": [
    "def avg(n1, n2, n3):\n",
    "    avg = (n1+n2+n3)/3\n",
    "    print(avg)\n",
    "\n",
    "avg(20,30,10)    "
   ]
  },
  {
   "cell_type": "code",
   "execution_count": null,
   "metadata": {},
   "outputs": [],
   "source": []
  }
 ],
 "metadata": {
  "kernelspec": {
   "display_name": "Python 3",
   "language": "python",
   "name": "python3"
  },
  "language_info": {
   "codemirror_mode": {
    "name": "ipython",
    "version": 3
   },
   "file_extension": ".py",
   "mimetype": "text/x-python",
   "name": "python",
   "nbconvert_exporter": "python",
   "pygments_lexer": "ipython3",
   "version": "3.13.0"
  }
 },
 "nbformat": 4,
 "nbformat_minor": 2
}
